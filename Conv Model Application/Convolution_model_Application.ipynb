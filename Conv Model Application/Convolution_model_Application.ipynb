{
 "cells": [
  {
   "cell_type": "markdown",
   "metadata": {},
   "source": [
    "# Convolutional Neural Networks: Application\n",
    "\n",
    "Welcome to Course 4's second assignment! In this notebook, you will:\n",
    "\n",
    "- Create a mood classifer using the TF Keras Sequential API\n",
    "- Build a ConvNet to identify sign language digits using the TF Keras Functional API\n",
    "\n",
    "**After this assignment you will be able to:**\n",
    "\n",
    "- Build and train a ConvNet in TensorFlow for a __binary__ classification problem\n",
    "- Build and train a ConvNet in TensorFlow for a __multiclass__ classification problem\n",
    "- Explain different use cases for the Sequential and Functional APIs\n",
    "\n",
    "To complete this assignment, you should already be familiar with TensorFlow. If you are not, please refer back to the **TensorFlow Tutorial** of the third week of Course 2 (\"**Improving deep neural networks**\").\n",
    "\n",
    "## Important Note on Submission to the AutoGrader\n",
    "\n",
    "Before submitting your assignment to the AutoGrader, please make sure you are not doing the following:\n",
    "\n",
    "1. You have not added any _extra_ `print` statement(s) in the assignment.\n",
    "2. You have not added any _extra_ code cell(s) in the assignment.\n",
    "3. You have not changed any of the function parameters.\n",
    "4. You are not using any global variables inside your graded exercises. Unless specifically instructed to do so, please refrain from it and use the local variables instead.\n",
    "5. You are not changing the assignment code where it is not required, like creating _extra_ variables.\n",
    "\n",
    "If you do any of the following, you will get something like, `Grader not found` (or similarly unexpected) error upon submitting your assignment. Before asking for help/debugging the errors in your assignment, check for these first. If this is the case, and you don't remember the changes you have made, you can get a fresh copy of the assignment by following these [instructions](https://www.coursera.org/learn/convolutional-neural-networks/supplement/DS4yP/h-ow-to-refresh-your-workspace)."
   ]
  },
  {
   "cell_type": "markdown",
   "metadata": {},
   "source": [
    "## Table of Contents\n",
    "\n",
    "- [1 - Packages](#1)\n",
    "    - [1.1 - Load the Data and Split the Data into Train/Test Sets](#1-1)\n",
    "- [2 - Layers in TF Keras](#2)\n",
    "- [3 - The Sequential API](#3)\n",
    "    - [3.1 - Create the Sequential Model](#3-1)\n",
    "        - [Exercise 1 - happyModel](#ex-1)\n",
    "    - [3.2 - Train and Evaluate the Model](#3-2)\n",
    "- [4 - The Functional API](#4)\n",
    "    - [4.1 - Load the SIGNS Dataset](#4-1)\n",
    "    - [4.2 - Split the Data into Train/Test Sets](#4-2)\n",
    "    - [4.3 - Forward Propagation](#4-3)\n",
    "        - [Exercise 2 - convolutional_model](#ex-2)\n",
    "    - [4.4 - Train the Model](#4-4)\n",
    "- [5 - History Object](#5)\n",
    "- [6 - Bibliography](#6)"
   ]
  },
  {
   "cell_type": "markdown",
   "metadata": {},
   "source": [
    "<a name='1'></a>\n",
    "## 1 - Packages\n",
    "\n",
    "As usual, begin by loading in the packages."
   ]
  },
  {
   "cell_type": "code",
   "execution_count": 4,
   "metadata": {},
   "outputs": [
    {
     "name": "stderr",
     "output_type": "stream",
     "text": [
      "Matplotlib is building the font cache; this may take a moment.\n"
     ]
    }
   ],
   "source": [
    "import math\n",
    "import numpy as np\n",
    "import h5py\n",
    "import matplotlib.pyplot as plt\n",
    "from matplotlib.pyplot import imread\n",
    "import scipy\n",
    "from PIL import Image\n",
    "import pandas as pd\n",
    "import tensorflow as tf\n",
    "import tensorflow.keras.layers as tfl\n",
    "from tensorflow.python.framework import ops\n",
    "from cnn_utils import *\n",
    "from test_utils import summary, comparator\n",
    "\n",
    "%matplotlib inline\n",
    "np.random.seed(1)"
   ]
  },
  {
   "cell_type": "markdown",
   "metadata": {},
   "source": [
    "<a name='1-1'></a>\n",
    "### 1.1 - Load the Data and Split the Data into Train/Test Sets\n",
    "\n",
    "You'll be using the Happy House dataset for this part of the assignment, which contains images of peoples' faces. Your task will be to build a ConvNet that determines whether the people in the images are smiling or not -- because they only get to enter the house if they're smiling!  "
   ]
  },
  {
   "cell_type": "code",
   "execution_count": 5,
   "metadata": {},
   "outputs": [
    {
     "name": "stdout",
     "output_type": "stream",
     "text": [
      "number of training examples = 600\n",
      "number of test examples = 150\n",
      "X_train shape: (600, 64, 64, 3)\n",
      "Y_train shape: (600, 1)\n",
      "X_test shape: (150, 64, 64, 3)\n",
      "Y_test shape: (150, 1)\n"
     ]
    }
   ],
   "source": [
    "X_train_orig, Y_train_orig, X_test_orig, Y_test_orig, classes = load_happy_dataset()\n",
    "\n",
    "# Normalize image vectors\n",
    "X_train = X_train_orig/255.\n",
    "X_test = X_test_orig/255.\n",
    "\n",
    "# Reshape\n",
    "Y_train = Y_train_orig.T\n",
    "Y_test = Y_test_orig.T\n",
    "\n",
    "print (\"number of training examples = \" + str(X_train.shape[0]))\n",
    "print (\"number of test examples = \" + str(X_test.shape[0]))\n",
    "print (\"X_train shape: \" + str(X_train.shape))\n",
    "print (\"Y_train shape: \" + str(Y_train.shape))\n",
    "print (\"X_test shape: \" + str(X_test.shape))\n",
    "print (\"Y_test shape: \" + str(Y_test.shape))"
   ]
  },
  {
   "cell_type": "markdown",
   "metadata": {},
   "source": [
    "You can display the images contained in the dataset. Images are **64x64** pixels in RGB format (3 channels)."
   ]
  },
  {
   "cell_type": "code",
   "execution_count": 6,
   "metadata": {},
   "outputs": [
    {
     "data": {
      "image/png": "[encoded data removed]",
      "text/plain": [
       "<Figure size 432x288 with 1 Axes>"
      ]
     },
     "metadata": {
      "needs_background": "light"
     },
     "output_type": "display_data"
    }
   ],
   "source": [
    "index = 124\n",
    "plt.imshow(X_train_orig[index]) #display sample training image\n",
    "plt.show()"
   ]
  },
  {
   "cell_type": "markdown",
   "metadata": {},
   "source": [
    "<a name='2'></a>\n",
    "## 2 - Layers in TF Keras \n",
    "\n",
    "In the previous assignment, you created layers manually in numpy. In TF Keras, you don't have to write code directly to create layers. Rather, TF Keras has pre-defined layers you can use. \n",
    "\n",
    "When you create a layer in TF Keras, you are creating a function that takes some input and transforms it into an output you can reuse later. Nice and easy! "
   ]
  },
  {
   "cell_type": "markdown",
   "metadata": {},
   "source": [
    "<a name='3'></a>\n",
    "## 3 - The Sequential API\n",
    "\n",
    "In the previous assignment, you built helper functions using `numpy` to understand the mechanics behind convolutional neural networks. Most practical applications of deep learning today are built using programming frameworks, which have many built-in functions you can simply call. Keras is a high-level abstraction built on top of TensorFlow, which allows for even more simplified and optimized model creation and training. \n",
    "\n",
    "For the first part of this assignment, you'll create a model using TF Keras' Sequential API, which allows you to build layer by layer, and is ideal for building models where each layer has **exactly one** input tensor and **one** output tensor. \n",
    "\n",
    "As you'll see, using the Sequential API is simple and straightforward, but is only appropriate for simpler, more straightforward tasks. Later in this notebook you'll spend some time building with a more flexible, powerful alternative: the Functional API. \n",
    " "
   ]
  },
  {
   "cell_type": "markdown",
   "metadata": {},
   "source": [
    "<a name='3-1'></a>\n",
    "### 3.1 - Create the Sequential Model\n",
    "\n",
    "As mentioned earlier, the TensorFlow Keras Sequential API can be used to build simple models with layer operations that proceed in a sequential order. \n",
    "\n",
    "You can also add layers incrementally to a Sequential model with the `.add()` method, or remove them using the `.pop()` method, much like you would in a regular Python list.\n",
    "\n",
    "Actually, you can think of a Sequential model as behaving like a list of layers. Like Python lists, Sequential layers are ordered, and the order in which they are specified matters.  If your model is non-linear or contains layers with multiple inputs or outputs, a Sequential model wouldn't be the right choice!\n",
    "\n",
    "For any layer construction in Keras, you'll need to specify the input shape in advance. This is because in Keras, the shape of the weights is based on the shape of the inputs. The weights are only created when the model first sees some input data. Sequential models can be created by passing a list of layers to the Sequential constructor, like you will do in the next assignment.\n",
    "\n",
    "<a name='ex-1'></a>\n",
    "### Exercise 1 - happyModel\n",
    "\n",
    "Implement the `happyModel` function below to build the following model: `ZEROPAD2D -> CONV2D -> BATCHNORM -> RELU -> MAXPOOL -> FLATTEN -> DENSE`. Take help from [tf.keras.layers](https://www.tensorflow.org/api_docs/python/tf/keras/layers) \n",
    "\n",
    "Also, plug in the following parameters for all the steps:\n",
    "\n",
    " - [ZeroPadding2D](https://www.tensorflow.org/api_docs/python/tf/keras/layers/ZeroPadding2D): padding 3, input shape 64 x 64 x 3\n",
    " - [Conv2D](https://www.tensorflow.org/api_docs/python/tf/keras/layers/Conv2D): Use 32 7x7 filters, stride 1\n",
    " - [BatchNormalization](https://www.tensorflow.org/api_docs/python/tf/keras/layers/BatchNormalization): for axis 3\n",
    " - [ReLU](https://www.tensorflow.org/api_docs/python/tf/keras/layers/ReLU)\n",
    " - [MaxPool2D](https://www.tensorflow.org/api_docs/python/tf/keras/layers/MaxPool2D): Using default parameters\n",
    " - [Flatten](https://www.tensorflow.org/api_docs/python/tf/keras/layers/Flatten) the previous output.\n",
    " - Fully-connected ([Dense](https://www.tensorflow.org/api_docs/python/tf/keras/layers/Dense)) layer: Apply a fully connected layer with 1 neuron and a sigmoid activation. \n",
    " \n",
    " \n",
    " **Hint:**\n",
    " \n",
    " Use **tfl** as shorthand for **tensorflow.keras.layers**"
   ]
  },
  {
   "cell_type": "code",
   "execution_count": 7,
   "metadata": {
    "deletable": false,
    "nbgrader": {
     "cell_type": "code",
     "checksum": "95d28b191f257bdd5b70c7b8952559d5",
     "grade": false,
     "grade_id": "cell-0e56d3fc28b69aec",
     "locked": false,
     "schema_version": 3,
     "solution": true,
     "task": false
    }
   },
   "outputs": [],
   "source": [
    "# GRADED FUNCTION: happyModel\n",
    "\n",
    "def happyModel():\n",
    "    \"\"\"\n",
    "    Implements the forward propagation for the binary classification model:\n",
    "    ZEROPAD2D -> CONV2D -> BATCHNORM -> RELU -> MAXPOOL -> FLATTEN -> DENSE\n",
    "    \n",
    "    Note that for simplicity and grading purposes, you'll hard-code all the values\n",
    "    such as the stride and kernel (filter) sizes. \n",
    "    Normally, functions should take these values as function parameters.\n",
    "    \n",
    "    Arguments:\n",
    "    None\n",
    "\n",
    "    Returns:\n",
    "    model -- TF Keras model (object containing the information for the entire training process) \n",
    "    \"\"\"\n",
    "    model = tf.keras.Sequential([\n",
    "                        \n",
    "            # YOUR CODE STARTS HERE\n",
    "            \n",
    "                    \n",
    "            ## ZeroPadding2D with padding 3, input shape of 64 x 64 x 3\n",
    "            tfl.ZeroPadding2D(padding=3, input_shape = (64,64,3)),\n",
    "            \n",
    "            ## Conv2D with 32 7x7 filters and stride of 1\n",
    "            tfl.Conv2D(filters = 32, kernel_size = 7, strides = 1),\n",
    "            \n",
    "            ## BatchNormalization for axis 3\n",
    "            tfl.BatchNormalization(axis=3),\n",
    "        \n",
    "            ## ReLU\n",
    "            tfl.ReLU(),\n",
    "        \n",
    "            ## Max Pooling 2D with default parameters\n",
    "            tfl.MaxPooling2D(),\n",
    "        \n",
    "            ## Flatten layer\n",
    "            tfl.Flatten(),\n",
    "            \n",
    "            ## Dense layer with 1 unit for output & 'sigmoid' activation\n",
    "            tfl.Dense(units=1, activation = 'sigmoid')\n",
    "        \n",
    "            # YOUR CODE ENDS HERE\n",
    "        ])\n",
    "    \n",
    "    return model"
   ]
  },
  {
   "cell_type": "code",
   "execution_count": 8,
   "metadata": {
    "deletable": false,
    "editable": false,
    "nbgrader": {
     "cell_type": "code",
     "checksum": "8d3575c950e2e78149be2d05d671c80d",
     "grade": true,
     "grade_id": "cell-e3e1046e5c33d775",
     "locked": true,
     "points": 10,
     "schema_version": 3,
     "solution": false,
     "task": false
    }
   },
   "outputs": [
    {
     "name": "stdout",
     "output_type": "stream",
     "text": [
      "['ZeroPadding2D', (None, 70, 70, 3), 0, ((3, 3), (3, 3))]\n",
      "['Conv2D', (None, 64, 64, 32), 4736, 'valid', 'linear', 'GlorotUniform']\n",
      "['BatchNormalization', (None, 64, 64, 32), 128]\n",
      "['ReLU', (None, 64, 64, 32), 0]\n",
      "['MaxPooling2D', (None, 32, 32, 32), 0, (2, 2), (2, 2), 'valid']\n",
      "['Flatten', (None, 32768), 0]\n",
      "['Dense', (None, 1), 32769, 'sigmoid']\n",
      "\u001b[32mAll tests passed!\u001b[0m\n"
     ]
    }
   ],
   "source": [
    "happy_model = happyModel()\n",
    "# Print a summary for each layer\n",
    "for layer in summary(happy_model):\n",
    "    print(layer)\n",
    "    \n",
    "output = [['ZeroPadding2D', (None, 70, 70, 3), 0, ((3, 3), (3, 3))],\n",
    "            ['Conv2D', (None, 64, 64, 32), 4736, 'valid', 'linear', 'GlorotUniform'],\n",
    "            ['BatchNormalization', (None, 64, 64, 32), 128],\n",
    "            ['ReLU', (None, 64, 64, 32), 0],\n",
    "            ['MaxPooling2D', (None, 32, 32, 32), 0, (2, 2), (2, 2), 'valid'],\n",
    "            ['Flatten', (None, 32768), 0],\n",
    "            ['Dense', (None, 1), 32769, 'sigmoid']]\n",
    "    \n",
    "comparator(summary(happy_model), output)"
   ]
  },
  {
   "cell_type": "markdown",
   "metadata": {},
   "source": [
    "Now that your model is created, you can compile it for training with an optimizer and loss of your choice. When the string `accuracy` is specified as a metric, the type of accuracy used will be automatically converted based on the loss function used. This is one of the many optimizations built into TensorFlow that make your life easier! If you'd like to read more on how the compiler operates, check the docs [here](https://www.tensorflow.org/api_docs/python/tf/keras/Model#compile)."
   ]
  },
  {
   "cell_type": "code",
   "execution_count": 9,
   "metadata": {},
   "outputs": [],
   "source": [
    "happy_model.compile(optimizer='adam',\n",
    "                   loss='binary_crossentropy',\n",
    "                   metrics=['accuracy'])"
   ]
  },
  {
   "cell_type": "markdown",
   "metadata": {},
   "source": [
    "It's time to check your model's parameters with the `.summary()` method. This will display the types of layers you have, the shape of the outputs, and how many parameters are in each layer. "
   ]
  },
  {
   "cell_type": "code",
   "execution_count": 10,
   "metadata": {},
   "outputs": [
    {
     "name": "stdout",
     "output_type": "stream",
     "text": [
      "Model: \"sequential\"\n",
      "_________________________________________________________________\n",
      " Layer (type)                Output Shape              Param #   \n",
      "=================================================================\n",
      " zero_padding2d (ZeroPadding  (None, 70, 70, 3)        0         \n",
      " 2D)                                                             \n",
      "                                                                 \n",
      " conv2d (Conv2D)             (None, 64, 64, 32)        4736      \n",
      "                                                                 \n",
      " batch_normalization (BatchN  (None, 64, 64, 32)       128       \n",
      " ormalization)                                                   \n",
      "                                                                 \n",
      " re_lu (ReLU)                (None, 64, 64, 32)        0         \n",
      "                                                                 \n",
      " max_pooling2d (MaxPooling2D  (None, 32, 32, 32)       0         \n",
      " )                                                               \n",
      "                                                                 \n",
      " flatten (Flatten)           (None, 32768)             0         \n",
      "                                                                 \n",
      " dense (Dense)               (None, 1)                 32769     \n",
      "                                                                 \n",
      "=================================================================\n",
      "Total params: 37,633\n",
      "Trainable params: 37,569\n",
      "Non-trainable params: 64\n",
      "_________________________________________________________________\n"
     ]
    }
   ],
   "source": [
    "happy_model.summary()"
   ]
  },
  {
   "cell_type": "markdown",
   "metadata": {},
   "source": [
    "<a name='3-2'></a>\n",
    "### 3.2 - Train and Evaluate the Model\n",
    "\n",
    "After creating the model, compiling it with your choice of optimizer and loss function, and doing a sanity check on its contents, you are now ready to build! \n",
    "\n",
    "Simply call `.fit()` to train. That's it! No need for mini-batching, saving, or complex backpropagation computations. That's all been done for you, as you're using a TensorFlow dataset with the batches specified already. You do have the option to specify epoch number or minibatch size if you like (for example, in the case of an un-batched dataset)."
   ]
  },
  {
   "cell_type": "code",
   "execution_count": 11,
   "metadata": {},
   "outputs": [
    {
     "name": "stdout",
     "output_type": "stream",
     "text": [
      "Epoch 1/10\n",
      "38/38 [==============================] - 10s 107ms/step - loss: 1.3917 - accuracy: 0.6767\n",
      "Epoch 2/10\n",
      "38/38 [==============================] - 4s 98ms/step - loss: 0.2045 - accuracy: 0.9133\n",
      "Epoch 3/10\n",
      "38/38 [==============================] - 4s 97ms/step - loss: 0.1330 - accuracy: 0.9550\n",
      "Epoch 4/10\n",
      "38/38 [==============================] - 4s 99ms/step - loss: 0.1265 - accuracy: 0.9600\n",
      "Epoch 5/10\n",
      "38/38 [==============================] - 4s 97ms/step - loss: 0.1442 - accuracy: 0.9400\n",
      "Epoch 6/10\n",
      "38/38 [==============================] - 4s 96ms/step - loss: 0.1731 - accuracy: 0.9267\n",
      "Epoch 7/10\n",
      "38/38 [==============================] - 4s 98ms/step - loss: 0.1320 - accuracy: 0.9467\n",
      "Epoch 8/10\n",
      "38/38 [==============================] - 4s 99ms/step - loss: 0.1152 - accuracy: 0.9600\n",
      "Epoch 9/10\n",
      "38/38 [==============================] - 4s 101ms/step - loss: 0.0764 - accuracy: 0.9717\n",
      "Epoch 10/10\n",
      "38/38 [==============================] - 4s 94ms/step - loss: 0.0594 - accuracy: 0.9817\n"
     ]
    },
    {
     "data": {
      "text/plain": [
       "<keras.callbacks.History at 0x24453950790>"
      ]
     },
     "execution_count": 11,
     "metadata": {},
     "output_type": "execute_result"
    }
   ],
   "source": [
    "happy_model.fit(X_train, Y_train, epochs=10, batch_size=16)"
   ]
  },
  {
   "cell_type": "markdown",
   "metadata": {},
   "source": [
    "After that completes, just use `.evaluate()` to evaluate against your test set. This function will print the value of the loss function and the performance metrics specified during the compilation of the model. In this case, the `binary_crossentropy` and the `accuracy` respectively."
   ]
  },
  {
   "cell_type": "code",
   "execution_count": 12,
   "metadata": {},
   "outputs": [
    {
     "name": "stdout",
     "output_type": "stream",
     "text": [
      "5/5 [==============================] - 1s 69ms/step - loss: 0.3036 - accuracy: 0.8600\n"
     ]
    },
    {
     "data": {
      "text/plain": [
       "[0.3036227822303772, 0.8600000143051147]"
      ]
     },
     "execution_count": 12,
     "metadata": {},
     "output_type": "execute_result"
    }
   ],
   "source": [
    "happy_model.evaluate(X_test, Y_test)"
   ]
  },
  {
   "cell_type": "markdown",
   "metadata": {},
   "source": [
    "Easy, right? But what if you need to build a model with shared layers, branches, or multiple inputs and outputs? This is where Sequential, with its beautifully simple yet limited functionality, won't be able to help you. \n",
    "\n",
    "Next up: Enter the Functional API, your slightly more complex, highly flexible friend.  "
   ]
  },
  {
   "cell_type": "markdown",
   "metadata": {},
   "source": [
    "<a name='4'></a>\n",
    "## 4 - The Functional API"
   ]
  },
  {
   "cell_type": "markdown",
   "metadata": {},
   "source": [
    "Welcome to the second half of the assignment, where you'll use Keras' flexible [Functional API](https://www.tensorflow.org/guide/keras/functional) to build a ConvNet that can differentiate between 6 sign language digits. \n",
    "\n",
    "The Functional API can handle models with non-linear topology, shared layers, as well as layers with multiple inputs or outputs. Imagine that, where the Sequential API requires the model to move in a linear fashion through its layers, the Functional API allows much more flexibility. Where Sequential is a straight line, a Functional model is a graph, where the nodes of the layers can connect in many more ways than one. \n",
    "\n",
    "In the visual example below, the one possible direction of the movement Sequential model is shown in contrast to a skip connection, which is just one of the many ways a Functional model can be constructed. A skip connection, as you might have guessed, skips some layer in the network and feeds the output to a later layer in the network. Don't worry, you'll be spending more time with skip connections very soon! "
   ]
  },
  {
   "cell_type": "markdown",
   "metadata": {},
   "source": [
    "<img src=\"images/seq_vs_func.png\" style=\"width:350px;height:200px;\">"
   ]
  },
  {
   "cell_type": "markdown",
   "metadata": {},
   "source": [
    "<a name='4-1'></a>\n",
    "### 4.1 - Load the SIGNS Dataset\n",
    "\n",
    "As a reminder, the SIGNS dataset is a collection of 6 signs representing numbers from 0 to 5."
   ]
  },
  {
   "cell_type": "code",
   "execution_count": 13,
   "metadata": {},
   "outputs": [],
   "source": [
    "# Loading the data (signs)\n",
    "X_train_orig, Y_train_orig, X_test_orig, Y_test_orig, classes = load_signs_dataset()"
   ]
  },
  {
   "cell_type": "markdown",
   "metadata": {},
   "source": [
    "<img src=\"images/SIGNS.png\" style=\"width:800px;height:300px;\">\n",
    "\n",
    "The next cell will show you an example of a labelled image in the dataset. Feel free to change the value of `index` below and re-run to see different examples. "
   ]
  },
  {
   "cell_type": "code",
   "execution_count": 14,
   "metadata": {},
   "outputs": [
    {
     "name": "stdout",
     "output_type": "stream",
     "text": [
      "y = 4\n"
     ]
    },
    {
     "data": {
      "image/png": "[encoded data removed]",
      "text/plain": [
       "<Figure size 432x288 with 1 Axes>"
      ]
     },
     "metadata": {
      "needs_background": "light"
     },
     "output_type": "display_data"
    }
   ],
   "source": [
    "# Example of an image from the dataset\n",
    "index = 9\n",
    "plt.imshow(X_train_orig[index])\n",
    "print (\"y = \" + str(np.squeeze(Y_train_orig[:, index])))"
   ]
  },
  {
   "cell_type": "markdown",
   "metadata": {},
   "source": [
    "<a name='4-2'></a>\n",
    "### 4.2 - Split the Data into Train/Test Sets\n",
    "\n",
    "In Course 2, you built a fully-connected network for this dataset. But since this is an image dataset, it is more natural to apply a ConvNet to it.\n",
    "\n",
    "To get started, let's examine the shapes of your data. "
   ]
  },
  {
   "cell_type": "code",
   "execution_count": 15,
   "metadata": {},
   "outputs": [
    {
     "name": "stdout",
     "output_type": "stream",
     "text": [
      "number of training examples = 1080\n",
      "number of test examples = 120\n",
      "X_train shape: (1080, 64, 64, 3)\n",
      "Y_train shape: (1080, 6)\n",
      "X_test shape: (120, 64, 64, 3)\n",
      "Y_test shape: (120, 6)\n"
     ]
    }
   ],
   "source": [
    "X_train = X_train_orig/255.\n",
    "X_test = X_test_orig/255.\n",
    "Y_train = convert_to_one_hot(Y_train_orig, 6).T\n",
    "Y_test = convert_to_one_hot(Y_test_orig, 6).T\n",
    "print (\"number of training examples = \" + str(X_train.shape[0]))\n",
    "print (\"number of test examples = \" + str(X_test.shape[0]))\n",
    "print (\"X_train shape: \" + str(X_train.shape))\n",
    "print (\"Y_train shape: \" + str(Y_train.shape))\n",
    "print (\"X_test shape: \" + str(X_test.shape))\n",
    "print (\"Y_test shape: \" + str(Y_test.shape))"
   ]
  },
  {
   "cell_type": "markdown",
   "metadata": {},
   "source": [
    "<a name='4-3'></a>\n",
    "### 4.3 - Forward Propagation\n",
    "\n",
    "In TensorFlow, there are built-in functions that implement the convolution steps for you. By now, you should be familiar with how TensorFlow builds computational graphs. In the [Functional API](https://www.tensorflow.org/guide/keras/functional), you create a graph of layers. This is what allows such great flexibility.\n",
    "\n",
    "However, the following model could also be defined using the Sequential API since the information flow is on a single line. But don't deviate. What we want you to learn is to use the functional API.\n",
    "\n",
    "Begin building your graph of layers by creating an input node that functions as a callable object:\n",
    "\n",
    "- **input_img = tf.keras.Input(shape=input_shape):** \n",
    "\n",
    "Then, create a new node in the graph of layers by calling a layer on the `input_img` object: \n",
    "\n",
    "- **tf.keras.layers.Conv2D(filters= ... , kernel_size= ... , padding='same')(input_img):** Read the full documentation on [Conv2D](https://www.tensorflow.org/api_docs/python/tf/keras/layers/Conv2D).\n",
    "\n",
    "- **tf.keras.layers.MaxPool2D(pool_size=(f, f), strides=(s, s), padding='same'):** `MaxPool2D()` downsamples your input using a window of size (f, f) and strides of size (s, s) to carry out max pooling over each window.  For max pooling, you usually operate on a single example at a time and a single channel at a time. Read the full documentation on [MaxPool2D](https://www.tensorflow.org/api_docs/python/tf/keras/layers/MaxPool2D).\n",
    "\n",
    "- **tf.keras.layers.ReLU():** computes the elementwise ReLU of Z (which can be any shape). You can read the full documentation on [ReLU](https://www.tensorflow.org/api_docs/python/tf/keras/layers/ReLU).\n",
    "\n",
    "- **tf.keras.layers.Flatten()**: given a tensor \"P\", this function takes each training (or test) example in the batch and flattens it into a 1D vector.  \n",
    "\n",
    "    * If a tensor P has the shape (batch_size,h,w,c), it returns a flattened tensor with shape (batch_size, k), where $k=h \\times w \\times c$.  \"k\" equals the product of all the dimension sizes other than the first dimension.\n",
    "    \n",
    "    * For example, given a tensor with dimensions [100, 2, 3, 4], it flattens the tensor to be of shape [100, 24], where 24 = 2 * 3 * 4.  You can read the full documentation on [Flatten](https://www.tensorflow.org/api_docs/python/tf/keras/layers/Flatten).\n",
    "\n",
    "- **tf.keras.layers.Dense(units= ... , activation='softmax')(F):** given the flattened input F, it returns the output computed using a fully connected layer. You can read the full documentation on [Dense](https://www.tensorflow.org/api_docs/python/tf/keras/layers/Dense).\n",
    "\n",
    "In the last function above (`tf.keras.layers.Dense()`), the fully connected layer automatically initializes weights in the graph and keeps on training them as you train the model. Hence, you did not need to initialize those weights when initializing the parameters.\n",
    "\n",
    "Lastly, before creating the model, you'll need to define the output using the last of the function's compositions (in this example, a Dense layer): \n",
    "\n",
    "- **outputs = tf.keras.layers.Dense(units=6, activation='softmax')(F)**\n",
    "\n",
    "\n",
    "#### Window, kernel, filter, pool\n",
    "\n",
    "The words \"kernel\" and \"filter\" are used to refer to the same thing. The word \"filter\" accounts for the amount of \"kernels\" that will be used in a single convolution layer. \"Pool\" is the name of the operation that takes the max or average value of the kernels. \n",
    "\n",
    "This is why the parameter `pool_size` refers to `kernel_size`, and you use `(f,f)` to refer to the filter size. \n",
    "\n",
    "Pool size and kernel size refer to the same thing in different objects - They refer to the shape of the window where the operation takes place. "
   ]
  },
  {
   "cell_type": "markdown",
   "metadata": {},
   "source": [
    "<a name='ex-2'></a>\n",
    "### Exercise 2 - convolutional_model\n",
    "\n",
    "Implement the `convolutional_model` function below to build the following model: `CONV2D -> RELU -> MAXPOOL -> CONV2D -> RELU -> MAXPOOL -> FLATTEN -> DENSE`. Use the functions above! \n",
    "\n",
    "Also, plug in the following parameters for all the steps:\n",
    "\n",
    " - [Conv2D](https://www.tensorflow.org/api_docs/python/tf/keras/layers/Conv2D): Use 8 4 by 4 filters, stride 1, padding is \"SAME\"\n",
    " - [ReLU](https://www.tensorflow.org/api_docs/python/tf/keras/layers/ReLU)\n",
    " - [MaxPool2D](https://www.tensorflow.org/api_docs/python/tf/keras/layers/MaxPool2D): Use an 8 by 8 filter size and an 8 by 8 stride, padding is \"SAME\"\n",
    " - **Conv2D**: Use 16 2 by 2 filters, stride 1, padding is \"SAME\"\n",
    " - **ReLU**\n",
    " - **MaxPool2D**: Use a 4 by 4 filter size and a 4 by 4 stride, padding is \"SAME\"\n",
    " - [Flatten](https://www.tensorflow.org/api_docs/python/tf/keras/layers/Flatten) the previous output.\n",
    " - Fully-connected ([Dense](https://www.tensorflow.org/api_docs/python/tf/keras/layers/Dense)) layer: Apply a fully connected layer with 6 neurons and a softmax activation. "
   ]
  },
  {
   "cell_type": "code",
   "execution_count": 16,
   "metadata": {
    "deletable": false,
    "nbgrader": {
     "cell_type": "code",
     "checksum": "f58643806aa8380c96225fc8b4c5e7aa",
     "grade": false,
     "grade_id": "cell-dac51744a9e03f51",
     "locked": false,
     "schema_version": 3,
     "solution": true,
     "task": false
    }
   },
   "outputs": [],
   "source": [
    "# GRADED FUNCTION: convolutional_model\n",
    "\n",
    "def convolutional_model(input_shape):\n",
    "    \"\"\"\n",
    "    Implements the forward propagation for the model:\n",
    "    CONV2D -> RELU -> MAXPOOL -> CONV2D -> RELU -> MAXPOOL -> FLATTEN -> DENSE\n",
    "    \n",
    "    Note that for simplicity and grading purposes, you'll hard-code some values\n",
    "    such as the stride and kernel (filter) sizes. \n",
    "    Normally, functions should take these values as function parameters.\n",
    "    \n",
    "    Arguments:\n",
    "    input_img -- input dataset, of shape (input_shape)\n",
    "\n",
    "    Returns:\n",
    "    model -- TF Keras model (object containing the information for the entire training process) \n",
    "    \"\"\"\n",
    "\n",
    "    input_img = tf.keras.Input(shape=input_shape)\n",
    "    ## CONV2D: 8 filters 4x4, stride of 1, padding 'SAME'\n",
    "    # Z1 = None\n",
    "    ## RELU\n",
    "    # A1 = None\n",
    "    ## MAXPOOL: window 8x8, stride 8, padding 'SAME'\n",
    "    # P1 = None\n",
    "    ## CONV2D: 16 filters 2x2, stride 1, padding 'SAME'\n",
    "    # Z2 = None\n",
    "    ## RELU\n",
    "    # A2 = None\n",
    "    ## MAXPOOL: window 4x4, stride 4, padding 'SAME'\n",
    "    # P2 = None\n",
    "    ## FLATTEN\n",
    "    # F = None\n",
    "    ## Dense layer\n",
    "    ## 6 neurons in output layer. Hint: one of the arguments should be \"activation='softmax'\" \n",
    "    # outputs = None\n",
    "    # YOUR CODE STARTS HERE\n",
    "    \n",
    "    ## CONV2D: 8 filters 4x4, stride of 1, padding 'SAME'\n",
    "    Z1 = tfl.Conv2D(8, (4,4), strides = 1, padding = 'same')(input_img)\n",
    "    ## RELU\n",
    "    A1 = tfl.ReLU()(Z1)\n",
    "    ## MAXPOOL: window 8x8, stride 8, padding 'SAME'\n",
    "    P1 = tfl.MaxPooling2D(pool_size = (8,8), strides = 8, padding = 'same')(A1)\n",
    "    ## CONV2D: 16 filters 2x2, stride 1, padding 'SAME'\n",
    "    Z2 = tfl.Conv2D(16, (2,2), strides = 1, padding = 'same')(P1)\n",
    "    ## RELU\n",
    "    A2 = tfl.ReLU()(Z2)\n",
    "    ## MAXPOOL: window 4x4, stride 4, padding 'SAME'\n",
    "    P2 = tfl.MaxPooling2D(pool_size = (4,4), strides = 4, padding = 'same')(A2)\n",
    "    ## FLATTEN\n",
    "    F = tfl.Flatten()(P2)\n",
    "    ## Dense layer\n",
    "    ## 6 neurons in output layer. Hint: one of the arguments should be \"activation='softmax'\" \n",
    "    outputs = tfl.Dense(6, activation = 'softmax')(F)\n",
    "    \n",
    "    # YOUR CODE ENDS HERE\n",
    "    model = tf.keras.Model(inputs=input_img, outputs=outputs)\n",
    "    return model"
   ]
  },
  {
   "cell_type": "code",
   "execution_count": 17,
   "metadata": {
    "deletable": false,
    "editable": false,
    "nbgrader": {
     "cell_type": "code",
     "checksum": "483d626949930a0b0ef20997e7c6ba72",
     "grade": true,
     "grade_id": "cell-45d22e92042174c9",
     "locked": true,
     "points": 10,
     "schema_version": 3,
     "solution": false,
     "task": false
    }
   },
   "outputs": [
    {
     "name": "stdout",
     "output_type": "stream",
     "text": [
      "Model: \"model\"\n",
      "_________________________________________________________________\n",
      " Layer (type)                Output Shape              Param #   \n",
      "=================================================================\n",
      " input_1 (InputLayer)        [(None, 64, 64, 3)]       0         \n",
      "                                                                 \n",
      " conv2d_1 (Conv2D)           (None, 64, 64, 8)         392       \n",
      "                                                                 \n",
      " re_lu_1 (ReLU)              (None, 64, 64, 8)         0         \n",
      "                                                                 \n",
      " max_pooling2d_1 (MaxPooling  (None, 8, 8, 8)          0         \n",
      " 2D)                                                             \n",
      "                                                                 \n",
      " conv2d_2 (Conv2D)           (None, 8, 8, 16)          528       \n",
      "                                                                 \n",
      " re_lu_2 (ReLU)              (None, 8, 8, 16)          0         \n",
      "                                                                 \n",
      " max_pooling2d_2 (MaxPooling  (None, 2, 2, 16)         0         \n",
      " 2D)                                                             \n",
      "                                                                 \n",
      " flatten_1 (Flatten)         (None, 64)                0         \n",
      "                                                                 \n",
      " dense_1 (Dense)             (None, 6)                 390       \n",
      "                                                                 \n",
      "=================================================================\n",
      "Total params: 1,310\n",
      "Trainable params: 1,310\n",
      "Non-trainable params: 0\n",
      "_________________________________________________________________\n",
      "\u001b[32mAll tests passed!\u001b[0m\n"
     ]
    }
   ],
   "source": [
    "conv_model = convolutional_model((64, 64, 3))\n",
    "conv_model.compile(optimizer='adam',\n",
    "                  loss='categorical_crossentropy',\n",
    "                  metrics=['accuracy'])\n",
    "conv_model.summary()\n",
    "    \n",
    "output = [['InputLayer', [(None, 64, 64, 3)], 0],\n",
    "        ['Conv2D', (None, 64, 64, 8), 392, 'same', 'linear', 'GlorotUniform'],\n",
    "        ['ReLU', (None, 64, 64, 8), 0],\n",
    "        ['MaxPooling2D', (None, 8, 8, 8), 0, (8, 8), (8, 8), 'same'],\n",
    "        ['Conv2D', (None, 8, 8, 16), 528, 'same', 'linear', 'GlorotUniform'],\n",
    "        ['ReLU', (None, 8, 8, 16), 0],\n",
    "        ['MaxPooling2D', (None, 2, 2, 16), 0, (4, 4), (4, 4), 'same'],\n",
    "        ['Flatten', (None, 64), 0],\n",
    "        ['Dense', (None, 6), 390, 'softmax']]\n",
    "    \n",
    "comparator(summary(conv_model), output)"
   ]
  },
  {
   "cell_type": "markdown",
   "metadata": {},
   "source": [
    "Both the Sequential and Functional APIs return a TF Keras model object. The only difference is how inputs are handled inside the object model! "
   ]
  },
  {
   "cell_type": "markdown",
   "metadata": {},
   "source": [
    "<a name='4-4'></a>\n",
    "### 4.4 - Train the Model"
   ]
  },
  {
   "cell_type": "code",
   "execution_count": 18,
   "metadata": {},
   "outputs": [
    {
     "name": "stdout",
     "output_type": "stream",
     "text": [
      "Epoch 1/100\n",
      "17/17 [==============================] - 4s 99ms/step - loss: 1.8571 - accuracy: 0.1602 - val_loss: 1.7939 - val_accuracy: 0.1750\n",
      "Epoch 2/100\n",
      "17/17 [==============================] - 1s 86ms/step - loss: 1.7922 - accuracy: 0.1750 - val_loss: 1.7864 - val_accuracy: 0.1917\n",
      "Epoch 3/100\n",
      "17/17 [==============================] - 1s 84ms/step - loss: 1.7898 - accuracy: 0.1704 - val_loss: 1.7854 - val_accuracy: 0.1833\n",
      "Epoch 4/100\n",
      "17/17 [==============================] - 1s 88ms/step - loss: 1.7883 - accuracy: 0.1917 - val_loss: 1.7834 - val_accuracy: 0.2417\n",
      "Epoch 5/100\n",
      "17/17 [==============================] - 1s 84ms/step - loss: 1.7866 - accuracy: 0.2213 - val_loss: 1.7813 - val_accuracy: 0.2083\n",
      "Epoch 6/100\n",
      "17/17 [==============================] - 2s 89ms/step - loss: 1.7852 - accuracy: 0.2306 - val_loss: 1.7794 - val_accuracy: 0.2750\n",
      "Epoch 7/100\n",
      "17/17 [==============================] - 2s 89ms/step - loss: 1.7838 - accuracy: 0.2444 - val_loss: 1.7773 - val_accuracy: 0.2500\n",
      "Epoch 8/100\n",
      "17/17 [==============================] - 2s 88ms/step - loss: 1.7823 - accuracy: 0.2546 - val_loss: 1.7752 - val_accuracy: 0.2750\n",
      "Epoch 9/100\n",
      "17/17 [==============================] - 1s 89ms/step - loss: 1.7806 - accuracy: 0.2704 - val_loss: 1.7729 - val_accuracy: 0.3167\n",
      "Epoch 10/100\n",
      "17/17 [==============================] - 1s 81ms/step - loss: 1.7787 - accuracy: 0.2833 - val_loss: 1.7702 - val_accuracy: 0.3250\n",
      "Epoch 11/100\n",
      "17/17 [==============================] - 2s 102ms/step - loss: 1.7770 - accuracy: 0.2713 - val_loss: 1.7674 - val_accuracy: 0.3083\n",
      "Epoch 12/100\n",
      "17/17 [==============================] - 1s 86ms/step - loss: 1.7743 - accuracy: 0.3056 - val_loss: 1.7647 - val_accuracy: 0.3250\n",
      "Epoch 13/100\n",
      "17/17 [==============================] - 1s 84ms/step - loss: 1.7718 - accuracy: 0.2935 - val_loss: 1.7608 - val_accuracy: 0.3250\n",
      "Epoch 14/100\n",
      "17/17 [==============================] - 2s 91ms/step - loss: 1.7683 - accuracy: 0.2991 - val_loss: 1.7565 - val_accuracy: 0.3083\n",
      "Epoch 15/100\n",
      "17/17 [==============================] - 2s 92ms/step - loss: 1.7648 - accuracy: 0.2917 - val_loss: 1.7529 - val_accuracy: 0.3167\n",
      "Epoch 16/100\n",
      "17/17 [==============================] - 1s 81ms/step - loss: 1.7608 - accuracy: 0.3093 - val_loss: 1.7480 - val_accuracy: 0.3250\n",
      "Epoch 17/100\n",
      "17/17 [==============================] - 2s 89ms/step - loss: 1.7564 - accuracy: 0.3130 - val_loss: 1.7428 - val_accuracy: 0.3250\n",
      "Epoch 18/100\n",
      "17/17 [==============================] - 1s 80ms/step - loss: 1.7515 - accuracy: 0.3194 - val_loss: 1.7368 - val_accuracy: 0.3500\n",
      "Epoch 19/100\n",
      "17/17 [==============================] - 1s 85ms/step - loss: 1.7454 - accuracy: 0.3194 - val_loss: 1.7292 - val_accuracy: 0.3333\n",
      "Epoch 20/100\n",
      "17/17 [==============================] - 1s 82ms/step - loss: 1.7374 - accuracy: 0.3139 - val_loss: 1.7204 - val_accuracy: 0.3417\n",
      "Epoch 21/100\n",
      "17/17 [==============================] - 1s 83ms/step - loss: 1.7277 - accuracy: 0.3185 - val_loss: 1.7093 - val_accuracy: 0.3667\n",
      "Epoch 22/100\n",
      "17/17 [==============================] - 1s 84ms/step - loss: 1.7161 - accuracy: 0.3231 - val_loss: 1.6953 - val_accuracy: 0.3750\n",
      "Epoch 23/100\n",
      "17/17 [==============================] - 2s 94ms/step - loss: 1.7025 - accuracy: 0.3343 - val_loss: 1.6808 - val_accuracy: 0.4083\n",
      "Epoch 24/100\n",
      "17/17 [==============================] - 2s 91ms/step - loss: 1.6857 - accuracy: 0.3435 - val_loss: 1.6629 - val_accuracy: 0.4250\n",
      "Epoch 25/100\n",
      "17/17 [==============================] - 1s 84ms/step - loss: 1.6664 - accuracy: 0.3583 - val_loss: 1.6434 - val_accuracy: 0.4500\n",
      "Epoch 26/100\n",
      "17/17 [==============================] - 1s 74ms/step - loss: 1.6428 - accuracy: 0.3704 - val_loss: 1.6206 - val_accuracy: 0.4500\n",
      "Epoch 27/100\n",
      "17/17 [==============================] - 1s 80ms/step - loss: 1.6138 - accuracy: 0.3852 - val_loss: 1.5934 - val_accuracy: 0.4000\n",
      "Epoch 28/100\n",
      "17/17 [==============================] - 1s 87ms/step - loss: 1.5828 - accuracy: 0.3806 - val_loss: 1.5654 - val_accuracy: 0.3917\n",
      "Epoch 29/100\n",
      "17/17 [==============================] - 1s 87ms/step - loss: 1.5491 - accuracy: 0.4000 - val_loss: 1.5356 - val_accuracy: 0.3833\n",
      "Epoch 30/100\n",
      "17/17 [==============================] - 2s 95ms/step - loss: 1.5129 - accuracy: 0.4278 - val_loss: 1.5041 - val_accuracy: 0.3500\n",
      "Epoch 31/100\n",
      "17/17 [==============================] - 2s 101ms/step - loss: 1.4776 - accuracy: 0.4315 - val_loss: 1.4729 - val_accuracy: 0.3750\n",
      "Epoch 32/100\n",
      "17/17 [==============================] - 2s 95ms/step - loss: 1.4407 - accuracy: 0.4519 - val_loss: 1.4452 - val_accuracy: 0.3833\n",
      "Epoch 33/100\n",
      "17/17 [==============================] - 2s 99ms/step - loss: 1.4059 - accuracy: 0.4583 - val_loss: 1.4173 - val_accuracy: 0.3917\n",
      "Epoch 34/100\n",
      "17/17 [==============================] - 2s 104ms/step - loss: 1.3709 - accuracy: 0.4704 - val_loss: 1.3898 - val_accuracy: 0.4000\n",
      "Epoch 35/100\n",
      "17/17 [==============================] - 2s 101ms/step - loss: 1.3366 - accuracy: 0.4889 - val_loss: 1.3640 - val_accuracy: 0.4083\n",
      "Epoch 36/100\n",
      "17/17 [==============================] - 2s 101ms/step - loss: 1.3069 - accuracy: 0.4954 - val_loss: 1.3385 - val_accuracy: 0.4083\n",
      "Epoch 37/100\n",
      "17/17 [==============================] - 1s 84ms/step - loss: 1.2786 - accuracy: 0.5130 - val_loss: 1.3166 - val_accuracy: 0.4083\n",
      "Epoch 38/100\n",
      "17/17 [==============================] - 1s 85ms/step - loss: 1.2515 - accuracy: 0.5222 - val_loss: 1.2971 - val_accuracy: 0.4500\n",
      "Epoch 39/100\n",
      "17/17 [==============================] - 2s 88ms/step - loss: 1.2243 - accuracy: 0.5435 - val_loss: 1.2722 - val_accuracy: 0.4500\n",
      "Epoch 40/100\n",
      "17/17 [==============================] - 1s 86ms/step - loss: 1.1982 - accuracy: 0.5602 - val_loss: 1.2481 - val_accuracy: 0.4583\n",
      "Epoch 41/100\n",
      "17/17 [==============================] - 1s 87ms/step - loss: 1.1742 - accuracy: 0.5759 - val_loss: 1.2278 - val_accuracy: 0.4750\n",
      "Epoch 42/100\n",
      "17/17 [==============================] - 2s 96ms/step - loss: 1.1522 - accuracy: 0.5815 - val_loss: 1.2076 - val_accuracy: 0.4917\n",
      "Epoch 43/100\n",
      "17/17 [==============================] - 1s 85ms/step - loss: 1.1304 - accuracy: 0.5972 - val_loss: 1.1850 - val_accuracy: 0.4917\n",
      "Epoch 44/100\n",
      "17/17 [==============================] - 2s 95ms/step - loss: 1.1085 - accuracy: 0.6065 - val_loss: 1.1648 - val_accuracy: 0.5167\n",
      "Epoch 45/100\n",
      "17/17 [==============================] - 2s 106ms/step - loss: 1.0899 - accuracy: 0.6130 - val_loss: 1.1492 - val_accuracy: 0.5083\n",
      "Epoch 46/100\n",
      "17/17 [==============================] - 1s 76ms/step - loss: 1.0702 - accuracy: 0.6194 - val_loss: 1.1305 - val_accuracy: 0.5333\n",
      "Epoch 47/100\n",
      "17/17 [==============================] - 1s 75ms/step - loss: 1.0514 - accuracy: 0.6259 - val_loss: 1.1126 - val_accuracy: 0.5417\n",
      "Epoch 48/100\n",
      "17/17 [==============================] - 1s 86ms/step - loss: 1.0342 - accuracy: 0.6296 - val_loss: 1.0967 - val_accuracy: 0.5333\n",
      "Epoch 49/100\n",
      "17/17 [==============================] - 1s 84ms/step - loss: 1.0177 - accuracy: 0.6343 - val_loss: 1.0805 - val_accuracy: 0.5667\n",
      "Epoch 50/100\n",
      "17/17 [==============================] - 1s 83ms/step - loss: 1.0017 - accuracy: 0.6426 - val_loss: 1.0642 - val_accuracy: 0.5917\n",
      "Epoch 51/100\n",
      "17/17 [==============================] - 1s 78ms/step - loss: 0.9878 - accuracy: 0.6472 - val_loss: 1.0504 - val_accuracy: 0.6000\n",
      "Epoch 52/100\n",
      "17/17 [==============================] - 1s 78ms/step - loss: 0.9734 - accuracy: 0.6519 - val_loss: 1.0361 - val_accuracy: 0.6000\n",
      "Epoch 53/100\n",
      "17/17 [==============================] - 1s 84ms/step - loss: 0.9599 - accuracy: 0.6574 - val_loss: 1.0223 - val_accuracy: 0.6250\n",
      "Epoch 54/100\n",
      "17/17 [==============================] - 1s 70ms/step - loss: 0.9471 - accuracy: 0.6685 - val_loss: 1.0117 - val_accuracy: 0.6083\n",
      "Epoch 55/100\n",
      "17/17 [==============================] - 1s 70ms/step - loss: 0.9352 - accuracy: 0.6704 - val_loss: 1.0003 - val_accuracy: 0.6083\n",
      "Epoch 56/100\n",
      "17/17 [==============================] - 1s 70ms/step - loss: 0.9235 - accuracy: 0.6685 - val_loss: 0.9894 - val_accuracy: 0.6083\n",
      "Epoch 57/100\n",
      "17/17 [==============================] - 1s 76ms/step - loss: 0.9119 - accuracy: 0.6713 - val_loss: 0.9769 - val_accuracy: 0.6083\n",
      "Epoch 58/100\n",
      "17/17 [==============================] - 1s 73ms/step - loss: 0.9011 - accuracy: 0.6815 - val_loss: 0.9693 - val_accuracy: 0.6167\n",
      "Epoch 59/100\n",
      "17/17 [==============================] - 1s 74ms/step - loss: 0.8910 - accuracy: 0.6880 - val_loss: 0.9599 - val_accuracy: 0.6250\n",
      "Epoch 60/100\n",
      "17/17 [==============================] - 1s 71ms/step - loss: 0.8809 - accuracy: 0.6870 - val_loss: 0.9493 - val_accuracy: 0.6417\n",
      "Epoch 61/100\n",
      "17/17 [==============================] - 1s 76ms/step - loss: 0.8720 - accuracy: 0.6926 - val_loss: 0.9426 - val_accuracy: 0.6500\n",
      "Epoch 62/100\n",
      "17/17 [==============================] - 1s 77ms/step - loss: 0.8627 - accuracy: 0.6963 - val_loss: 0.9323 - val_accuracy: 0.6667\n",
      "Epoch 63/100\n",
      "17/17 [==============================] - 1s 74ms/step - loss: 0.8545 - accuracy: 0.6991 - val_loss: 0.9235 - val_accuracy: 0.6750\n",
      "Epoch 64/100\n",
      "17/17 [==============================] - 1s 80ms/step - loss: 0.8439 - accuracy: 0.7019 - val_loss: 0.9163 - val_accuracy: 0.6750\n",
      "Epoch 65/100\n",
      "17/17 [==============================] - 1s 73ms/step - loss: 0.8327 - accuracy: 0.7111 - val_loss: 0.9083 - val_accuracy: 0.6667\n",
      "Epoch 66/100\n",
      "17/17 [==============================] - 1s 80ms/step - loss: 0.8216 - accuracy: 0.7167 - val_loss: 0.8981 - val_accuracy: 0.6917\n",
      "Epoch 67/100\n",
      "17/17 [==============================] - 2s 93ms/step - loss: 0.8108 - accuracy: 0.7176 - val_loss: 0.8894 - val_accuracy: 0.7083\n",
      "Epoch 68/100\n",
      "17/17 [==============================] - 1s 83ms/step - loss: 0.8006 - accuracy: 0.7204 - val_loss: 0.8800 - val_accuracy: 0.7167\n",
      "Epoch 69/100\n",
      "17/17 [==============================] - 1s 79ms/step - loss: 0.7907 - accuracy: 0.7259 - val_loss: 0.8716 - val_accuracy: 0.7250\n",
      "Epoch 70/100\n",
      "17/17 [==============================] - 1s 76ms/step - loss: 0.7816 - accuracy: 0.7259 - val_loss: 0.8644 - val_accuracy: 0.7250\n",
      "Epoch 71/100\n",
      "17/17 [==============================] - 1s 77ms/step - loss: 0.7726 - accuracy: 0.7296 - val_loss: 0.8572 - val_accuracy: 0.7250\n",
      "Epoch 72/100\n",
      "17/17 [==============================] - 2s 90ms/step - loss: 0.7644 - accuracy: 0.7343 - val_loss: 0.8501 - val_accuracy: 0.7333\n",
      "Epoch 73/100\n",
      "17/17 [==============================] - 2s 95ms/step - loss: 0.7558 - accuracy: 0.7389 - val_loss: 0.8440 - val_accuracy: 0.7417\n",
      "Epoch 74/100\n",
      "17/17 [==============================] - 2s 90ms/step - loss: 0.7478 - accuracy: 0.7435 - val_loss: 0.8392 - val_accuracy: 0.7333\n",
      "Epoch 75/100\n",
      "17/17 [==============================] - 2s 89ms/step - loss: 0.7405 - accuracy: 0.7435 - val_loss: 0.8334 - val_accuracy: 0.7417\n",
      "Epoch 76/100\n",
      "17/17 [==============================] - 2s 91ms/step - loss: 0.7338 - accuracy: 0.7454 - val_loss: 0.8285 - val_accuracy: 0.7417\n",
      "Epoch 77/100\n",
      "17/17 [==============================] - 2s 89ms/step - loss: 0.7269 - accuracy: 0.7454 - val_loss: 0.8239 - val_accuracy: 0.7500\n",
      "Epoch 78/100\n",
      "17/17 [==============================] - 2s 92ms/step - loss: 0.7202 - accuracy: 0.7491 - val_loss: 0.8195 - val_accuracy: 0.7417\n",
      "Epoch 79/100\n",
      "17/17 [==============================] - 2s 93ms/step - loss: 0.7141 - accuracy: 0.7472 - val_loss: 0.8144 - val_accuracy: 0.7417\n",
      "Epoch 80/100\n",
      "17/17 [==============================] - 2s 89ms/step - loss: 0.7079 - accuracy: 0.7472 - val_loss: 0.8114 - val_accuracy: 0.7333\n",
      "Epoch 81/100\n",
      "17/17 [==============================] - 2s 92ms/step - loss: 0.7020 - accuracy: 0.7519 - val_loss: 0.8062 - val_accuracy: 0.7417\n",
      "Epoch 82/100\n",
      "17/17 [==============================] - 2s 92ms/step - loss: 0.6961 - accuracy: 0.7519 - val_loss: 0.8023 - val_accuracy: 0.7417\n",
      "Epoch 83/100\n",
      "17/17 [==============================] - 1s 87ms/step - loss: 0.6901 - accuracy: 0.7546 - val_loss: 0.7990 - val_accuracy: 0.7417\n",
      "Epoch 84/100\n",
      "17/17 [==============================] - 2s 91ms/step - loss: 0.6847 - accuracy: 0.7556 - val_loss: 0.7955 - val_accuracy: 0.7417\n",
      "Epoch 85/100\n",
      "17/17 [==============================] - 2s 90ms/step - loss: 0.6793 - accuracy: 0.7574 - val_loss: 0.7926 - val_accuracy: 0.7500\n",
      "Epoch 86/100\n",
      "17/17 [==============================] - 2s 91ms/step - loss: 0.6743 - accuracy: 0.7593 - val_loss: 0.7897 - val_accuracy: 0.7500\n",
      "Epoch 87/100\n",
      "17/17 [==============================] - 2s 90ms/step - loss: 0.6690 - accuracy: 0.7602 - val_loss: 0.7871 - val_accuracy: 0.7583\n",
      "Epoch 88/100\n",
      "17/17 [==============================] - 2s 93ms/step - loss: 0.6639 - accuracy: 0.7630 - val_loss: 0.7844 - val_accuracy: 0.7583\n",
      "Epoch 89/100\n",
      "17/17 [==============================] - 2s 89ms/step - loss: 0.6590 - accuracy: 0.7630 - val_loss: 0.7821 - val_accuracy: 0.7583\n",
      "Epoch 90/100\n",
      "17/17 [==============================] - 2s 90ms/step - loss: 0.6543 - accuracy: 0.7657 - val_loss: 0.7796 - val_accuracy: 0.7583\n",
      "Epoch 91/100\n",
      "17/17 [==============================] - 2s 88ms/step - loss: 0.6501 - accuracy: 0.7630 - val_loss: 0.7769 - val_accuracy: 0.7583\n",
      "Epoch 92/100\n",
      "17/17 [==============================] - 2s 89ms/step - loss: 0.6455 - accuracy: 0.7667 - val_loss: 0.7751 - val_accuracy: 0.7583\n",
      "Epoch 93/100\n",
      "17/17 [==============================] - 1s 87ms/step - loss: 0.6413 - accuracy: 0.7648 - val_loss: 0.7727 - val_accuracy: 0.7583\n",
      "Epoch 94/100\n",
      "17/17 [==============================] - 2s 90ms/step - loss: 0.6370 - accuracy: 0.7676 - val_loss: 0.7696 - val_accuracy: 0.7583\n",
      "Epoch 95/100\n",
      "17/17 [==============================] - 2s 90ms/step - loss: 0.6326 - accuracy: 0.7713 - val_loss: 0.7676 - val_accuracy: 0.7583\n",
      "Epoch 96/100\n",
      "17/17 [==============================] - 2s 92ms/step - loss: 0.6285 - accuracy: 0.7750 - val_loss: 0.7663 - val_accuracy: 0.7500\n",
      "Epoch 97/100\n",
      "17/17 [==============================] - 2s 95ms/step - loss: 0.6242 - accuracy: 0.7759 - val_loss: 0.7632 - val_accuracy: 0.7500\n",
      "Epoch 98/100\n",
      "17/17 [==============================] - 2s 92ms/step - loss: 0.6201 - accuracy: 0.7750 - val_loss: 0.7602 - val_accuracy: 0.7583\n",
      "Epoch 99/100\n",
      "17/17 [==============================] - 2s 91ms/step - loss: 0.6162 - accuracy: 0.7778 - val_loss: 0.7589 - val_accuracy: 0.7583\n",
      "Epoch 100/100\n",
      "17/17 [==============================] - 2s 92ms/step - loss: 0.6129 - accuracy: 0.7759 - val_loss: 0.7583 - val_accuracy: 0.7500\n"
     ]
    }
   ],
   "source": [
    "train_dataset = tf.data.Dataset.from_tensor_slices((X_train, Y_train)).batch(64)\n",
    "test_dataset = tf.data.Dataset.from_tensor_slices((X_test, Y_test)).batch(64)\n",
    "history = conv_model.fit(train_dataset, epochs=100, validation_data=test_dataset)"
   ]
  },
  {
   "cell_type": "markdown",
   "metadata": {},
   "source": [
    "<a name='5'></a>\n",
    "## 5 - History Object \n",
    "\n",
    "The history object is an output of the `.fit()` operation, and provides a record of all the loss and metric values in memory. It's stored as a dictionary that you can retrieve at `history.history`: "
   ]
  },
  {
   "cell_type": "code",
   "execution_count": 19,
   "metadata": {},
   "outputs": [
    {
     "data": {
      "text/plain": [
       "{'loss': [1.8570764064788818,\n",
       "  1.7922358512878418,\n",
       "  1.7898181676864624,\n",
       "  1.7882850170135498,\n",
       "  1.78656005859375,\n",
       "  1.7851725816726685,\n",
       "  1.7838177680969238,\n",
       "  1.782251000404358,\n",
       "  1.7806174755096436,\n",
       "  1.7786697149276733,\n",
       "  1.7769757509231567,\n",
       "  1.77432119846344,\n",
       "  1.7717857360839844,\n",
       "  1.7682693004608154,\n",
       "  1.7648237943649292,\n",
       "  1.7608144283294678,\n",
       "  1.7563730478286743,\n",
       "  1.7515345811843872,\n",
       "  1.7453778982162476,\n",
       "  1.7374048233032227,\n",
       "  1.7276748418807983,\n",
       "  1.7161144018173218,\n",
       "  1.7024612426757812,\n",
       "  1.685733437538147,\n",
       "  1.6664354801177979,\n",
       "  1.6428306102752686,\n",
       "  1.6137652397155762,\n",
       "  1.582797884941101,\n",
       "  1.5491087436676025,\n",
       "  1.512917399406433,\n",
       "  1.4776339530944824,\n",
       "  1.4406777620315552,\n",
       "  1.4059486389160156,\n",
       "  1.3708688020706177,\n",
       "  1.336602807044983,\n",
       "  1.306942343711853,\n",
       "  1.2786293029785156,\n",
       "  1.2514989376068115,\n",
       "  1.22431218624115,\n",
       "  1.1982179880142212,\n",
       "  1.1741845607757568,\n",
       "  1.152172327041626,\n",
       "  1.1303530931472778,\n",
       "  1.1085070371627808,\n",
       "  1.0898563861846924,\n",
       "  1.0702253580093384,\n",
       "  1.051393747329712,\n",
       "  1.0341719388961792,\n",
       "  1.0176641941070557,\n",
       "  1.0016554594039917,\n",
       "  0.987757682800293,\n",
       "  0.9734131693840027,\n",
       "  0.9599092602729797,\n",
       "  0.947057843208313,\n",
       "  0.9351628422737122,\n",
       "  0.9234595894813538,\n",
       "  0.9119210243225098,\n",
       "  0.9010985493659973,\n",
       "  0.8909671902656555,\n",
       "  0.8808513283729553,\n",
       "  0.8720306754112244,\n",
       "  0.8627438545227051,\n",
       "  0.8544835448265076,\n",
       "  0.8438791632652283,\n",
       "  0.8327333927154541,\n",
       "  0.8215891122817993,\n",
       "  0.8108371496200562,\n",
       "  0.800642192363739,\n",
       "  0.7907302379608154,\n",
       "  0.7815811634063721,\n",
       "  0.7726308107376099,\n",
       "  0.7643854022026062,\n",
       "  0.7558326721191406,\n",
       "  0.7477586269378662,\n",
       "  0.7405067682266235,\n",
       "  0.7337745428085327,\n",
       "  0.7269440293312073,\n",
       "  0.7202225923538208,\n",
       "  0.7141448259353638,\n",
       "  0.7078680992126465,\n",
       "  0.7019989490509033,\n",
       "  0.6961240172386169,\n",
       "  0.6901038289070129,\n",
       "  0.6847477555274963,\n",
       "  0.6793076992034912,\n",
       "  0.6743013858795166,\n",
       "  0.6690365672111511,\n",
       "  0.663855254650116,\n",
       "  0.6590039730072021,\n",
       "  0.6542890071868896,\n",
       "  0.6500848531723022,\n",
       "  0.6455126404762268,\n",
       "  0.6412841081619263,\n",
       "  0.6369908452033997,\n",
       "  0.6325969099998474,\n",
       "  0.6284615993499756,\n",
       "  0.6241515278816223,\n",
       "  0.6201295852661133,\n",
       "  0.6162105798721313,\n",
       "  0.612923264503479],\n",
       " 'accuracy': [0.16018518805503845,\n",
       "  0.17499999701976776,\n",
       "  0.17037037014961243,\n",
       "  0.19166666269302368,\n",
       "  0.2212962955236435,\n",
       "  0.23055554926395416,\n",
       "  0.24444444477558136,\n",
       "  0.25462964177131653,\n",
       "  0.27037036418914795,\n",
       "  0.28333333134651184,\n",
       "  0.27129629254341125,\n",
       "  0.3055555522441864,\n",
       "  0.2935185134410858,\n",
       "  0.29907408356666565,\n",
       "  0.2916666567325592,\n",
       "  0.3092592656612396,\n",
       "  0.31296294927597046,\n",
       "  0.3194444477558136,\n",
       "  0.3194444477558136,\n",
       "  0.31388887763023376,\n",
       "  0.3185185194015503,\n",
       "  0.3231481611728668,\n",
       "  0.3342592716217041,\n",
       "  0.34351852536201477,\n",
       "  0.3583333194255829,\n",
       "  0.37037035822868347,\n",
       "  0.385185182094574,\n",
       "  0.38055557012557983,\n",
       "  0.4000000059604645,\n",
       "  0.4277777671813965,\n",
       "  0.4314814805984497,\n",
       "  0.45185184478759766,\n",
       "  0.4583333432674408,\n",
       "  0.4703703820705414,\n",
       "  0.4888888895511627,\n",
       "  0.49537035822868347,\n",
       "  0.5129629373550415,\n",
       "  0.5222222208976746,\n",
       "  0.5435185432434082,\n",
       "  0.5601851940155029,\n",
       "  0.5759259462356567,\n",
       "  0.5814814567565918,\n",
       "  0.5972222089767456,\n",
       "  0.6064814925193787,\n",
       "  0.6129629611968994,\n",
       "  0.6194444298744202,\n",
       "  0.6259258985519409,\n",
       "  0.6296296119689941,\n",
       "  0.6342592835426331,\n",
       "  0.6425926089286804,\n",
       "  0.6472222208976746,\n",
       "  0.6518518328666687,\n",
       "  0.6574074029922485,\n",
       "  0.6685185432434082,\n",
       "  0.6703703999519348,\n",
       "  0.6685185432434082,\n",
       "  0.6712962985038757,\n",
       "  0.6814814805984497,\n",
       "  0.6879629492759705,\n",
       "  0.6870370507240295,\n",
       "  0.6925926208496094,\n",
       "  0.6962962746620178,\n",
       "  0.6990740895271301,\n",
       "  0.7018518447875977,\n",
       "  0.7111111283302307,\n",
       "  0.7166666388511658,\n",
       "  0.7175925970077515,\n",
       "  0.720370352268219,\n",
       "  0.7259259223937988,\n",
       "  0.7259259223937988,\n",
       "  0.729629635810852,\n",
       "  0.7342592477798462,\n",
       "  0.7388888597488403,\n",
       "  0.7435185313224792,\n",
       "  0.7435185313224792,\n",
       "  0.7453703880310059,\n",
       "  0.7453703880310059,\n",
       "  0.7490741014480591,\n",
       "  0.7472222447395325,\n",
       "  0.7472222447395325,\n",
       "  0.7518518567085266,\n",
       "  0.7518518567085266,\n",
       "  0.7546296119689941,\n",
       "  0.7555555701255798,\n",
       "  0.7574074268341064,\n",
       "  0.7592592835426331,\n",
       "  0.760185182094574,\n",
       "  0.7629629373550415,\n",
       "  0.7629629373550415,\n",
       "  0.7657407522201538,\n",
       "  0.7629629373550415,\n",
       "  0.7666666507720947,\n",
       "  0.7648147940635681,\n",
       "  0.7675926089286804,\n",
       "  0.7712963223457336,\n",
       "  0.7749999761581421,\n",
       "  0.7759259343147278,\n",
       "  0.7749999761581421,\n",
       "  0.7777777910232544,\n",
       "  0.7759259343147278],\n",
       " 'val_loss': [1.7938573360443115,\n",
       "  1.7863987684249878,\n",
       "  1.7854167222976685,\n",
       "  1.7834149599075317,\n",
       "  1.7813339233398438,\n",
       "  1.7793539762496948,\n",
       "  1.7772955894470215,\n",
       "  1.77518892288208,\n",
       "  1.7728813886642456,\n",
       "  1.7702105045318604,\n",
       "  1.7673852443695068,\n",
       "  1.7646502256393433,\n",
       "  1.7607505321502686,\n",
       "  1.7565385103225708,\n",
       "  1.7528760433197021,\n",
       "  1.748042345046997,\n",
       "  1.7427655458450317,\n",
       "  1.7368252277374268,\n",
       "  1.7291877269744873,\n",
       "  1.7203892469406128,\n",
       "  1.7093027830123901,\n",
       "  1.695288062095642,\n",
       "  1.6808021068572998,\n",
       "  1.6629241704940796,\n",
       "  1.6434378623962402,\n",
       "  1.6206480264663696,\n",
       "  1.5933709144592285,\n",
       "  1.565382480621338,\n",
       "  1.5355528593063354,\n",
       "  1.5040942430496216,\n",
       "  1.4729489088058472,\n",
       "  1.445197582244873,\n",
       "  1.417349934577942,\n",
       "  1.3898082971572876,\n",
       "  1.36398184299469,\n",
       "  1.3385207653045654,\n",
       "  1.3166450262069702,\n",
       "  1.2970539331436157,\n",
       "  1.2721656560897827,\n",
       "  1.248126745223999,\n",
       "  1.227773904800415,\n",
       "  1.207628846168518,\n",
       "  1.1850166320800781,\n",
       "  1.164764165878296,\n",
       "  1.149230718612671,\n",
       "  1.1305196285247803,\n",
       "  1.1125718355178833,\n",
       "  1.096679449081421,\n",
       "  1.0805224180221558,\n",
       "  1.0642057657241821,\n",
       "  1.0504072904586792,\n",
       "  1.036099910736084,\n",
       "  1.0222904682159424,\n",
       "  1.0117050409317017,\n",
       "  1.0003302097320557,\n",
       "  0.9894482493400574,\n",
       "  0.9769110083580017,\n",
       "  0.9692672491073608,\n",
       "  0.9598501920700073,\n",
       "  0.9492959380149841,\n",
       "  0.942645251750946,\n",
       "  0.932327151298523,\n",
       "  0.9235060214996338,\n",
       "  0.9162838459014893,\n",
       "  0.9082537889480591,\n",
       "  0.8980756402015686,\n",
       "  0.8894215822219849,\n",
       "  0.8799726963043213,\n",
       "  0.8716239333152771,\n",
       "  0.8643667697906494,\n",
       "  0.857181191444397,\n",
       "  0.8501346111297607,\n",
       "  0.8440114259719849,\n",
       "  0.8392344117164612,\n",
       "  0.8334382772445679,\n",
       "  0.8284651041030884,\n",
       "  0.8239303827285767,\n",
       "  0.8194867968559265,\n",
       "  0.814437747001648,\n",
       "  0.8113620281219482,\n",
       "  0.8062092661857605,\n",
       "  0.8023338913917542,\n",
       "  0.7990443110466003,\n",
       "  0.7954610586166382,\n",
       "  0.7926223874092102,\n",
       "  0.7897418141365051,\n",
       "  0.7870991826057434,\n",
       "  0.7844146490097046,\n",
       "  0.782060980796814,\n",
       "  0.779578447341919,\n",
       "  0.7769151926040649,\n",
       "  0.7750522494316101,\n",
       "  0.7726693749427795,\n",
       "  0.7696176171302795,\n",
       "  0.7675675749778748,\n",
       "  0.7663376331329346,\n",
       "  0.7631651759147644,\n",
       "  0.7601541876792908,\n",
       "  0.7588723301887512,\n",
       "  0.7582923769950867],\n",
       " 'val_accuracy': [0.17499999701976776,\n",
       "  0.19166666269302368,\n",
       "  0.18333333730697632,\n",
       "  0.24166665971279144,\n",
       "  0.2083333283662796,\n",
       "  0.2750000059604645,\n",
       "  0.25,\n",
       "  0.2750000059604645,\n",
       "  0.3166666626930237,\n",
       "  0.32499998807907104,\n",
       "  0.3083333373069763,\n",
       "  0.32499998807907104,\n",
       "  0.32499998807907104,\n",
       "  0.3083333373069763,\n",
       "  0.3166666626930237,\n",
       "  0.32499998807907104,\n",
       "  0.32499998807907104,\n",
       "  0.3499999940395355,\n",
       "  0.3333333432674408,\n",
       "  0.34166666865348816,\n",
       "  0.36666667461395264,\n",
       "  0.375,\n",
       "  0.40833333134651184,\n",
       "  0.42500001192092896,\n",
       "  0.44999998807907104,\n",
       "  0.44999998807907104,\n",
       "  0.4000000059604645,\n",
       "  0.3916666805744171,\n",
       "  0.38333332538604736,\n",
       "  0.3499999940395355,\n",
       "  0.375,\n",
       "  0.38333332538604736,\n",
       "  0.3916666805744171,\n",
       "  0.4000000059604645,\n",
       "  0.40833333134651184,\n",
       "  0.40833333134651184,\n",
       "  0.40833333134651184,\n",
       "  0.44999998807907104,\n",
       "  0.44999998807907104,\n",
       "  0.4583333432674408,\n",
       "  0.4749999940395355,\n",
       "  0.49166667461395264,\n",
       "  0.49166667461395264,\n",
       "  0.5166666507720947,\n",
       "  0.5083333253860474,\n",
       "  0.5333333611488342,\n",
       "  0.5416666865348816,\n",
       "  0.5333333611488342,\n",
       "  0.5666666626930237,\n",
       "  0.5916666388511658,\n",
       "  0.6000000238418579,\n",
       "  0.6000000238418579,\n",
       "  0.625,\n",
       "  0.6083333492279053,\n",
       "  0.6083333492279053,\n",
       "  0.6083333492279053,\n",
       "  0.6083333492279053,\n",
       "  0.6166666746139526,\n",
       "  0.625,\n",
       "  0.6416666507720947,\n",
       "  0.6499999761581421,\n",
       "  0.6666666865348816,\n",
       "  0.675000011920929,\n",
       "  0.675000011920929,\n",
       "  0.6666666865348816,\n",
       "  0.6916666626930237,\n",
       "  0.7083333134651184,\n",
       "  0.7166666388511658,\n",
       "  0.7250000238418579,\n",
       "  0.7250000238418579,\n",
       "  0.7250000238418579,\n",
       "  0.7333333492279053,\n",
       "  0.7416666746139526,\n",
       "  0.7333333492279053,\n",
       "  0.7416666746139526,\n",
       "  0.7416666746139526,\n",
       "  0.75,\n",
       "  0.7416666746139526,\n",
       "  0.7416666746139526,\n",
       "  0.7333333492279053,\n",
       "  0.7416666746139526,\n",
       "  0.7416666746139526,\n",
       "  0.7416666746139526,\n",
       "  0.7416666746139526,\n",
       "  0.75,\n",
       "  0.75,\n",
       "  0.7583333253860474,\n",
       "  0.7583333253860474,\n",
       "  0.7583333253860474,\n",
       "  0.7583333253860474,\n",
       "  0.7583333253860474,\n",
       "  0.7583333253860474,\n",
       "  0.7583333253860474,\n",
       "  0.7583333253860474,\n",
       "  0.7583333253860474,\n",
       "  0.75,\n",
       "  0.75,\n",
       "  0.7583333253860474,\n",
       "  0.7583333253860474,\n",
       "  0.75]}"
      ]
     },
     "execution_count": 19,
     "metadata": {},
     "output_type": "execute_result"
    }
   ],
   "source": [
    "history.history"
   ]
  },
  {
   "cell_type": "markdown",
   "metadata": {},
   "source": [
    "Now visualize the loss over time using `history.history`: "
   ]
  },
  {
   "cell_type": "code",
   "execution_count": 20,
   "metadata": {},
   "outputs": [
    {
     "name": "stderr",
     "output_type": "stream",
     "text": [
      "C:\\Users\\jahid\\AppData\\Local\\Temp\\ipykernel_8452\\973814028.py:5: SettingWithCopyWarning: \n",
      "A value is trying to be set on a copy of a slice from a DataFrame\n",
      "\n",
      "See the caveats in the documentation: https://pandas.pydata.org/pandas-docs/stable/user_guide/indexing.html#returning-a-view-versus-a-copy\n",
      "  df_loss.rename(columns={'loss':'train','val_loss':'validation'},inplace=True)\n",
      "C:\\Users\\jahid\\AppData\\Local\\Temp\\ipykernel_8452\\973814028.py:7: SettingWithCopyWarning: \n",
      "A value is trying to be set on a copy of a slice from a DataFrame\n",
      "\n",
      "See the caveats in the documentation: https://pandas.pydata.org/pandas-docs/stable/user_guide/indexing.html#returning-a-view-versus-a-copy\n",
      "  df_acc.rename(columns={'accuracy':'train','val_accuracy':'validation'},inplace=True)\n"
     ]
    },
    {
     "data": {
      "text/plain": [
       "[Text(0.5, 0, 'Epoch'), Text(0, 0.5, 'Accuracy')]"
      ]
     },
     "execution_count": 20,
     "metadata": {},
     "output_type": "execute_result"
    },
    {
     "data": {
      "image/png": "[encoded data removed]",
      "text/plain": [
       "<Figure size 864x576 with 1 Axes>"
      ]
     },
     "metadata": {
      "needs_background": "light"
     },
     "output_type": "display_data"
    },
    {
     "data": {
      "image/png": "[encoded data removed]",
      "text/plain": [
       "<Figure size 864x576 with 1 Axes>"
      ]
     },
     "metadata": {
      "needs_background": "light"
     },
     "output_type": "display_data"
    }
   ],
   "source": [
    "# The history.history[\"loss\"] entry is a dictionary with as many values as epochs that the\n",
    "# model was trained on. \n",
    "df_loss_acc = pd.DataFrame(history.history)\n",
    "df_loss= df_loss_acc[['loss','val_loss']]\n",
    "df_loss.rename(columns={'loss':'train','val_loss':'validation'},inplace=True)\n",
    "df_acc= df_loss_acc[['accuracy','val_accuracy']]\n",
    "df_acc.rename(columns={'accuracy':'train','val_accuracy':'validation'},inplace=True)\n",
    "df_loss.plot(title='Model loss',figsize=(12,8)).set(xlabel='Epoch',ylabel='Loss')\n",
    "df_acc.plot(title='Model Accuracy',figsize=(12,8)).set(xlabel='Epoch',ylabel='Accuracy')"
   ]
  },
  {
   "cell_type": "markdown",
   "metadata": {},
   "source": [
    "**Congratulations**! You've finished the assignment and built two models: One that recognizes  smiles, and another that recognizes SIGN language with almost 80% accuracy on the test set. In addition to that, you now also understand the applications of two Keras APIs: Sequential and Functional. Nicely done! \n",
    "\n",
    "By now, you know a bit about how the Functional API works and may have glimpsed the possibilities. In your next assignment, you'll really get a feel for its power when you get the opportunity to build a very deep ConvNet, using ResNets! "
   ]
  },
  {
   "cell_type": "markdown",
   "metadata": {},
   "source": [
    "<a name='6'></a>\n",
    "## 6 - Bibliography\n",
    "\n",
    "You're always encouraged to read the official documentation. To that end, you can find the docs for the Sequential and Functional APIs here: \n",
    "\n",
    "https://www.tensorflow.org/guide/keras/sequential_model\n",
    "\n",
    "https://www.tensorflow.org/guide/keras/functional"
   ]
  }
 ],
 "metadata": {
  "coursera": {
   "course_slug": "convolutional-neural-networks",
   "graded_item_id": "bwbJV",
   "launcher_item_id": "0TkXB"
  },
  "kernelspec": {
   "display_name": "Python 3.10.5 64-bit",
   "language": "python",
   "name": "python3"
  },
  "language_info": {
   "codemirror_mode": {
    "name": "ipython",
    "version": 3
   },
   "file_extension": ".py",
   "mimetype": "text/x-python",
   "name": "python",
   "nbconvert_exporter": "python",
   "pygments_lexer": "ipython3",
   "version": "3.10.5"
  },
  "vscode": {
   "interpreter": {
    "hash": "ef88c2e2a6997d001faabdfce0777dc7e39af19bf65e22c7a6ec23f0a298a034"
   }
  }
 },
 "nbformat": 4,
 "nbformat_minor": 2
}
